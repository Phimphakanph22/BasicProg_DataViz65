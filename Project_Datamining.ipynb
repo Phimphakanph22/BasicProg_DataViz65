{
  "nbformat": 4,
  "nbformat_minor": 0,
  "metadata": {
    "colab": {
      "provenance": [],
      "authorship_tag": "ABX9TyM1M479yRVreXp09qJJLZ0e",
      "include_colab_link": true
    },
    "kernelspec": {
      "name": "python3",
      "display_name": "Python 3"
    },
    "language_info": {
      "name": "python"
    }
  },
  "cells": [
    {
      "cell_type": "markdown",
      "metadata": {
        "id": "view-in-github",
        "colab_type": "text"
      },
      "source": [
        "<a href=\"https://colab.research.google.com/github/Phimphakanph22/BasicProg_DataViz65/blob/main/Project_Datamining.ipynb\" target=\"_parent\"><img src=\"https://colab.research.google.com/assets/colab-badge.svg\" alt=\"Open In Colab\"/></a>"
      ]
    },
    {
      "cell_type": "code",
      "execution_count": 1,
      "metadata": {
        "colab": {
          "base_uri": "https://localhost:8080/"
        },
        "id": "UqsRhmObMN4M",
        "outputId": "c5fb7851-da52-48fe-98b1-16faa1f3d30d"
      },
      "outputs": [
        {
          "output_type": "stream",
          "name": "stdout",
          "text": [
            "Mounted at /content/drive\n"
          ]
        }
      ],
      "source": [
        "from google.colab import drive\n",
        "drive.mount('/content/drive')"
      ]
    },
    {
      "cell_type": "code",
      "source": [
        "import numpy as np \n",
        "import pandas as pd\n",
        "import seaborn as sns"
      ],
      "metadata": {
        "id": "B_utkFjuMa7v"
      },
      "execution_count": 3,
      "outputs": []
    },
    {
      "cell_type": "code",
      "source": [
        "data_zoo = pd.read_csv('/content/drive/MyDrive/Project/zoo.csv')\n",
        "data_zoo"
      ],
      "metadata": {
        "colab": {
          "base_uri": "https://localhost:8080/",
          "height": 423
        },
        "id": "e7-IGCEYMP1l",
        "outputId": "e5de3928-f402-4bb2-e88e-44110c965cbe"
      },
      "execution_count": 90,
      "outputs": [
        {
          "output_type": "execute_result",
          "data": {
            "text/plain": [
              "    animal_name  hair  feathers  eggs  milk  airborne  aquatic  predator  \\\n",
              "0      aardvark     1         0     0     1         0        0         1   \n",
              "1      antelope     1         0     0     1         0        0         0   \n",
              "2          bass     0         0     1     0         0        1         1   \n",
              "3          bear     1         0     0     1         0        0         1   \n",
              "4          boar     1         0     0     1         0        0         1   \n",
              "..          ...   ...       ...   ...   ...       ...      ...       ...   \n",
              "96      wallaby     1         0     0     1         0        0         0   \n",
              "97         wasp     1         0     1     0         1        0         0   \n",
              "98         wolf     1         0     0     1         0        0         1   \n",
              "99         worm     0         0     1     0         0        0         0   \n",
              "100        wren     0         1     1     0         1        0         0   \n",
              "\n",
              "     toothed  backbone  breathes  venomous  fins  legs  tail  domestic  \\\n",
              "0          1         1         1         0     0     4     0         0   \n",
              "1          1         1         1         0     0     4     1         0   \n",
              "2          1         1         0         0     1     0     1         0   \n",
              "3          1         1         1         0     0     4     0         0   \n",
              "4          1         1         1         0     0     4     1         0   \n",
              "..       ...       ...       ...       ...   ...   ...   ...       ...   \n",
              "96         1         1         1         0     0     2     1         0   \n",
              "97         0         0         1         1     0     6     0         0   \n",
              "98         1         1         1         0     0     4     1         0   \n",
              "99         0         0         1         0     0     0     0         0   \n",
              "100        0         1         1         0     0     2     1         0   \n",
              "\n",
              "     catsize  class_type  \n",
              "0          1           1  \n",
              "1          1           1  \n",
              "2          0           4  \n",
              "3          1           1  \n",
              "4          1           1  \n",
              "..       ...         ...  \n",
              "96         1           1  \n",
              "97         0           6  \n",
              "98         1           1  \n",
              "99         0           7  \n",
              "100        0           2  \n",
              "\n",
              "[101 rows x 18 columns]"
            ],
            "text/html": [
              "\n",
              "  <div id=\"df-d1959589-18a4-4d19-a576-aa002289a12b\">\n",
              "    <div class=\"colab-df-container\">\n",
              "      <div>\n",
              "<style scoped>\n",
              "    .dataframe tbody tr th:only-of-type {\n",
              "        vertical-align: middle;\n",
              "    }\n",
              "\n",
              "    .dataframe tbody tr th {\n",
              "        vertical-align: top;\n",
              "    }\n",
              "\n",
              "    .dataframe thead th {\n",
              "        text-align: right;\n",
              "    }\n",
              "</style>\n",
              "<table border=\"1\" class=\"dataframe\">\n",
              "  <thead>\n",
              "    <tr style=\"text-align: right;\">\n",
              "      <th></th>\n",
              "      <th>animal_name</th>\n",
              "      <th>hair</th>\n",
              "      <th>feathers</th>\n",
              "      <th>eggs</th>\n",
              "      <th>milk</th>\n",
              "      <th>airborne</th>\n",
              "      <th>aquatic</th>\n",
              "      <th>predator</th>\n",
              "      <th>toothed</th>\n",
              "      <th>backbone</th>\n",
              "      <th>breathes</th>\n",
              "      <th>venomous</th>\n",
              "      <th>fins</th>\n",
              "      <th>legs</th>\n",
              "      <th>tail</th>\n",
              "      <th>domestic</th>\n",
              "      <th>catsize</th>\n",
              "      <th>class_type</th>\n",
              "    </tr>\n",
              "  </thead>\n",
              "  <tbody>\n",
              "    <tr>\n",
              "      <th>0</th>\n",
              "      <td>aardvark</td>\n",
              "      <td>1</td>\n",
              "      <td>0</td>\n",
              "      <td>0</td>\n",
              "      <td>1</td>\n",
              "      <td>0</td>\n",
              "      <td>0</td>\n",
              "      <td>1</td>\n",
              "      <td>1</td>\n",
              "      <td>1</td>\n",
              "      <td>1</td>\n",
              "      <td>0</td>\n",
              "      <td>0</td>\n",
              "      <td>4</td>\n",
              "      <td>0</td>\n",
              "      <td>0</td>\n",
              "      <td>1</td>\n",
              "      <td>1</td>\n",
              "    </tr>\n",
              "    <tr>\n",
              "      <th>1</th>\n",
              "      <td>antelope</td>\n",
              "      <td>1</td>\n",
              "      <td>0</td>\n",
              "      <td>0</td>\n",
              "      <td>1</td>\n",
              "      <td>0</td>\n",
              "      <td>0</td>\n",
              "      <td>0</td>\n",
              "      <td>1</td>\n",
              "      <td>1</td>\n",
              "      <td>1</td>\n",
              "      <td>0</td>\n",
              "      <td>0</td>\n",
              "      <td>4</td>\n",
              "      <td>1</td>\n",
              "      <td>0</td>\n",
              "      <td>1</td>\n",
              "      <td>1</td>\n",
              "    </tr>\n",
              "    <tr>\n",
              "      <th>2</th>\n",
              "      <td>bass</td>\n",
              "      <td>0</td>\n",
              "      <td>0</td>\n",
              "      <td>1</td>\n",
              "      <td>0</td>\n",
              "      <td>0</td>\n",
              "      <td>1</td>\n",
              "      <td>1</td>\n",
              "      <td>1</td>\n",
              "      <td>1</td>\n",
              "      <td>0</td>\n",
              "      <td>0</td>\n",
              "      <td>1</td>\n",
              "      <td>0</td>\n",
              "      <td>1</td>\n",
              "      <td>0</td>\n",
              "      <td>0</td>\n",
              "      <td>4</td>\n",
              "    </tr>\n",
              "    <tr>\n",
              "      <th>3</th>\n",
              "      <td>bear</td>\n",
              "      <td>1</td>\n",
              "      <td>0</td>\n",
              "      <td>0</td>\n",
              "      <td>1</td>\n",
              "      <td>0</td>\n",
              "      <td>0</td>\n",
              "      <td>1</td>\n",
              "      <td>1</td>\n",
              "      <td>1</td>\n",
              "      <td>1</td>\n",
              "      <td>0</td>\n",
              "      <td>0</td>\n",
              "      <td>4</td>\n",
              "      <td>0</td>\n",
              "      <td>0</td>\n",
              "      <td>1</td>\n",
              "      <td>1</td>\n",
              "    </tr>\n",
              "    <tr>\n",
              "      <th>4</th>\n",
              "      <td>boar</td>\n",
              "      <td>1</td>\n",
              "      <td>0</td>\n",
              "      <td>0</td>\n",
              "      <td>1</td>\n",
              "      <td>0</td>\n",
              "      <td>0</td>\n",
              "      <td>1</td>\n",
              "      <td>1</td>\n",
              "      <td>1</td>\n",
              "      <td>1</td>\n",
              "      <td>0</td>\n",
              "      <td>0</td>\n",
              "      <td>4</td>\n",
              "      <td>1</td>\n",
              "      <td>0</td>\n",
              "      <td>1</td>\n",
              "      <td>1</td>\n",
              "    </tr>\n",
              "    <tr>\n",
              "      <th>...</th>\n",
              "      <td>...</td>\n",
              "      <td>...</td>\n",
              "      <td>...</td>\n",
              "      <td>...</td>\n",
              "      <td>...</td>\n",
              "      <td>...</td>\n",
              "      <td>...</td>\n",
              "      <td>...</td>\n",
              "      <td>...</td>\n",
              "      <td>...</td>\n",
              "      <td>...</td>\n",
              "      <td>...</td>\n",
              "      <td>...</td>\n",
              "      <td>...</td>\n",
              "      <td>...</td>\n",
              "      <td>...</td>\n",
              "      <td>...</td>\n",
              "      <td>...</td>\n",
              "    </tr>\n",
              "    <tr>\n",
              "      <th>96</th>\n",
              "      <td>wallaby</td>\n",
              "      <td>1</td>\n",
              "      <td>0</td>\n",
              "      <td>0</td>\n",
              "      <td>1</td>\n",
              "      <td>0</td>\n",
              "      <td>0</td>\n",
              "      <td>0</td>\n",
              "      <td>1</td>\n",
              "      <td>1</td>\n",
              "      <td>1</td>\n",
              "      <td>0</td>\n",
              "      <td>0</td>\n",
              "      <td>2</td>\n",
              "      <td>1</td>\n",
              "      <td>0</td>\n",
              "      <td>1</td>\n",
              "      <td>1</td>\n",
              "    </tr>\n",
              "    <tr>\n",
              "      <th>97</th>\n",
              "      <td>wasp</td>\n",
              "      <td>1</td>\n",
              "      <td>0</td>\n",
              "      <td>1</td>\n",
              "      <td>0</td>\n",
              "      <td>1</td>\n",
              "      <td>0</td>\n",
              "      <td>0</td>\n",
              "      <td>0</td>\n",
              "      <td>0</td>\n",
              "      <td>1</td>\n",
              "      <td>1</td>\n",
              "      <td>0</td>\n",
              "      <td>6</td>\n",
              "      <td>0</td>\n",
              "      <td>0</td>\n",
              "      <td>0</td>\n",
              "      <td>6</td>\n",
              "    </tr>\n",
              "    <tr>\n",
              "      <th>98</th>\n",
              "      <td>wolf</td>\n",
              "      <td>1</td>\n",
              "      <td>0</td>\n",
              "      <td>0</td>\n",
              "      <td>1</td>\n",
              "      <td>0</td>\n",
              "      <td>0</td>\n",
              "      <td>1</td>\n",
              "      <td>1</td>\n",
              "      <td>1</td>\n",
              "      <td>1</td>\n",
              "      <td>0</td>\n",
              "      <td>0</td>\n",
              "      <td>4</td>\n",
              "      <td>1</td>\n",
              "      <td>0</td>\n",
              "      <td>1</td>\n",
              "      <td>1</td>\n",
              "    </tr>\n",
              "    <tr>\n",
              "      <th>99</th>\n",
              "      <td>worm</td>\n",
              "      <td>0</td>\n",
              "      <td>0</td>\n",
              "      <td>1</td>\n",
              "      <td>0</td>\n",
              "      <td>0</td>\n",
              "      <td>0</td>\n",
              "      <td>0</td>\n",
              "      <td>0</td>\n",
              "      <td>0</td>\n",
              "      <td>1</td>\n",
              "      <td>0</td>\n",
              "      <td>0</td>\n",
              "      <td>0</td>\n",
              "      <td>0</td>\n",
              "      <td>0</td>\n",
              "      <td>0</td>\n",
              "      <td>7</td>\n",
              "    </tr>\n",
              "    <tr>\n",
              "      <th>100</th>\n",
              "      <td>wren</td>\n",
              "      <td>0</td>\n",
              "      <td>1</td>\n",
              "      <td>1</td>\n",
              "      <td>0</td>\n",
              "      <td>1</td>\n",
              "      <td>0</td>\n",
              "      <td>0</td>\n",
              "      <td>0</td>\n",
              "      <td>1</td>\n",
              "      <td>1</td>\n",
              "      <td>0</td>\n",
              "      <td>0</td>\n",
              "      <td>2</td>\n",
              "      <td>1</td>\n",
              "      <td>0</td>\n",
              "      <td>0</td>\n",
              "      <td>2</td>\n",
              "    </tr>\n",
              "  </tbody>\n",
              "</table>\n",
              "<p>101 rows × 18 columns</p>\n",
              "</div>\n",
              "      <button class=\"colab-df-convert\" onclick=\"convertToInteractive('df-d1959589-18a4-4d19-a576-aa002289a12b')\"\n",
              "              title=\"Convert this dataframe to an interactive table.\"\n",
              "              style=\"display:none;\">\n",
              "        \n",
              "  <svg xmlns=\"http://www.w3.org/2000/svg\" height=\"24px\"viewBox=\"0 0 24 24\"\n",
              "       width=\"24px\">\n",
              "    <path d=\"M0 0h24v24H0V0z\" fill=\"none\"/>\n",
              "    <path d=\"M18.56 5.44l.94 2.06.94-2.06 2.06-.94-2.06-.94-.94-2.06-.94 2.06-2.06.94zm-11 1L8.5 8.5l.94-2.06 2.06-.94-2.06-.94L8.5 2.5l-.94 2.06-2.06.94zm10 10l.94 2.06.94-2.06 2.06-.94-2.06-.94-.94-2.06-.94 2.06-2.06.94z\"/><path d=\"M17.41 7.96l-1.37-1.37c-.4-.4-.92-.59-1.43-.59-.52 0-1.04.2-1.43.59L10.3 9.45l-7.72 7.72c-.78.78-.78 2.05 0 2.83L4 21.41c.39.39.9.59 1.41.59.51 0 1.02-.2 1.41-.59l7.78-7.78 2.81-2.81c.8-.78.8-2.07 0-2.86zM5.41 20L4 18.59l7.72-7.72 1.47 1.35L5.41 20z\"/>\n",
              "  </svg>\n",
              "      </button>\n",
              "      \n",
              "  <style>\n",
              "    .colab-df-container {\n",
              "      display:flex;\n",
              "      flex-wrap:wrap;\n",
              "      gap: 12px;\n",
              "    }\n",
              "\n",
              "    .colab-df-convert {\n",
              "      background-color: #E8F0FE;\n",
              "      border: none;\n",
              "      border-radius: 50%;\n",
              "      cursor: pointer;\n",
              "      display: none;\n",
              "      fill: #1967D2;\n",
              "      height: 32px;\n",
              "      padding: 0 0 0 0;\n",
              "      width: 32px;\n",
              "    }\n",
              "\n",
              "    .colab-df-convert:hover {\n",
              "      background-color: #E2EBFA;\n",
              "      box-shadow: 0px 1px 2px rgba(60, 64, 67, 0.3), 0px 1px 3px 1px rgba(60, 64, 67, 0.15);\n",
              "      fill: #174EA6;\n",
              "    }\n",
              "\n",
              "    [theme=dark] .colab-df-convert {\n",
              "      background-color: #3B4455;\n",
              "      fill: #D2E3FC;\n",
              "    }\n",
              "\n",
              "    [theme=dark] .colab-df-convert:hover {\n",
              "      background-color: #434B5C;\n",
              "      box-shadow: 0px 1px 3px 1px rgba(0, 0, 0, 0.15);\n",
              "      filter: drop-shadow(0px 1px 2px rgba(0, 0, 0, 0.3));\n",
              "      fill: #FFFFFF;\n",
              "    }\n",
              "  </style>\n",
              "\n",
              "      <script>\n",
              "        const buttonEl =\n",
              "          document.querySelector('#df-d1959589-18a4-4d19-a576-aa002289a12b button.colab-df-convert');\n",
              "        buttonEl.style.display =\n",
              "          google.colab.kernel.accessAllowed ? 'block' : 'none';\n",
              "\n",
              "        async function convertToInteractive(key) {\n",
              "          const element = document.querySelector('#df-d1959589-18a4-4d19-a576-aa002289a12b');\n",
              "          const dataTable =\n",
              "            await google.colab.kernel.invokeFunction('convertToInteractive',\n",
              "                                                     [key], {});\n",
              "          if (!dataTable) return;\n",
              "\n",
              "          const docLinkHtml = 'Like what you see? Visit the ' +\n",
              "            '<a target=\"_blank\" href=https://colab.research.google.com/notebooks/data_table.ipynb>data table notebook</a>'\n",
              "            + ' to learn more about interactive tables.';\n",
              "          element.innerHTML = '';\n",
              "          dataTable['output_type'] = 'display_data';\n",
              "          await google.colab.output.renderOutput(dataTable, element);\n",
              "          const docLink = document.createElement('div');\n",
              "          docLink.innerHTML = docLinkHtml;\n",
              "          element.appendChild(docLink);\n",
              "        }\n",
              "      </script>\n",
              "    </div>\n",
              "  </div>\n",
              "  "
            ]
          },
          "metadata": {},
          "execution_count": 90
        }
      ]
    },
    {
      "cell_type": "code",
      "source": [
        "data_class = pd.read_csv('/content/drive/MyDrive/DPDM/Project/class.csv')\n",
        "data_class"
      ],
      "metadata": {
        "colab": {
          "base_uri": "https://localhost:8080/",
          "height": 269
        },
        "id": "j7fvCbPLQC2w",
        "outputId": "e0da9d21-b1a8-4c3d-914c-e8dae2f5d1e0"
      },
      "execution_count": 45,
      "outputs": [
        {
          "output_type": "execute_result",
          "data": {
            "text/plain": [
              "   Class_Number  Number_Of_Animal_Species_In_Class    Class_Type  \\\n",
              "0             1                                 41        Mammal   \n",
              "1             2                                 20          Bird   \n",
              "2             3                                  5       Reptile   \n",
              "3             4                                 13          Fish   \n",
              "4             5                                  4     Amphibian   \n",
              "5             6                                  8           Bug   \n",
              "6             7                                 10  Invertebrate   \n",
              "\n",
              "                                        Animal_Names  \n",
              "0  aardvark, antelope, bear, boar, buffalo, calf,...  \n",
              "1  chicken, crow, dove, duck, flamingo, gull, haw...  \n",
              "2    pitviper, seasnake, slowworm, tortoise, tuatara  \n",
              "3  bass, carp, catfish, chub, dogfish, haddock, h...  \n",
              "4                             frog, frog, newt, toad  \n",
              "5  flea, gnat, honeybee, housefly, ladybird, moth...  \n",
              "6  clam, crab, crayfish, lobster, octopus, scorpi...  "
            ],
            "text/html": [
              "\n",
              "  <div id=\"df-31528698-5f8b-4a50-9e8c-a3b6eaf2738a\">\n",
              "    <div class=\"colab-df-container\">\n",
              "      <div>\n",
              "<style scoped>\n",
              "    .dataframe tbody tr th:only-of-type {\n",
              "        vertical-align: middle;\n",
              "    }\n",
              "\n",
              "    .dataframe tbody tr th {\n",
              "        vertical-align: top;\n",
              "    }\n",
              "\n",
              "    .dataframe thead th {\n",
              "        text-align: right;\n",
              "    }\n",
              "</style>\n",
              "<table border=\"1\" class=\"dataframe\">\n",
              "  <thead>\n",
              "    <tr style=\"text-align: right;\">\n",
              "      <th></th>\n",
              "      <th>Class_Number</th>\n",
              "      <th>Number_Of_Animal_Species_In_Class</th>\n",
              "      <th>Class_Type</th>\n",
              "      <th>Animal_Names</th>\n",
              "    </tr>\n",
              "  </thead>\n",
              "  <tbody>\n",
              "    <tr>\n",
              "      <th>0</th>\n",
              "      <td>1</td>\n",
              "      <td>41</td>\n",
              "      <td>Mammal</td>\n",
              "      <td>aardvark, antelope, bear, boar, buffalo, calf,...</td>\n",
              "    </tr>\n",
              "    <tr>\n",
              "      <th>1</th>\n",
              "      <td>2</td>\n",
              "      <td>20</td>\n",
              "      <td>Bird</td>\n",
              "      <td>chicken, crow, dove, duck, flamingo, gull, haw...</td>\n",
              "    </tr>\n",
              "    <tr>\n",
              "      <th>2</th>\n",
              "      <td>3</td>\n",
              "      <td>5</td>\n",
              "      <td>Reptile</td>\n",
              "      <td>pitviper, seasnake, slowworm, tortoise, tuatara</td>\n",
              "    </tr>\n",
              "    <tr>\n",
              "      <th>3</th>\n",
              "      <td>4</td>\n",
              "      <td>13</td>\n",
              "      <td>Fish</td>\n",
              "      <td>bass, carp, catfish, chub, dogfish, haddock, h...</td>\n",
              "    </tr>\n",
              "    <tr>\n",
              "      <th>4</th>\n",
              "      <td>5</td>\n",
              "      <td>4</td>\n",
              "      <td>Amphibian</td>\n",
              "      <td>frog, frog, newt, toad</td>\n",
              "    </tr>\n",
              "    <tr>\n",
              "      <th>5</th>\n",
              "      <td>6</td>\n",
              "      <td>8</td>\n",
              "      <td>Bug</td>\n",
              "      <td>flea, gnat, honeybee, housefly, ladybird, moth...</td>\n",
              "    </tr>\n",
              "    <tr>\n",
              "      <th>6</th>\n",
              "      <td>7</td>\n",
              "      <td>10</td>\n",
              "      <td>Invertebrate</td>\n",
              "      <td>clam, crab, crayfish, lobster, octopus, scorpi...</td>\n",
              "    </tr>\n",
              "  </tbody>\n",
              "</table>\n",
              "</div>\n",
              "      <button class=\"colab-df-convert\" onclick=\"convertToInteractive('df-31528698-5f8b-4a50-9e8c-a3b6eaf2738a')\"\n",
              "              title=\"Convert this dataframe to an interactive table.\"\n",
              "              style=\"display:none;\">\n",
              "        \n",
              "  <svg xmlns=\"http://www.w3.org/2000/svg\" height=\"24px\"viewBox=\"0 0 24 24\"\n",
              "       width=\"24px\">\n",
              "    <path d=\"M0 0h24v24H0V0z\" fill=\"none\"/>\n",
              "    <path d=\"M18.56 5.44l.94 2.06.94-2.06 2.06-.94-2.06-.94-.94-2.06-.94 2.06-2.06.94zm-11 1L8.5 8.5l.94-2.06 2.06-.94-2.06-.94L8.5 2.5l-.94 2.06-2.06.94zm10 10l.94 2.06.94-2.06 2.06-.94-2.06-.94-.94-2.06-.94 2.06-2.06.94z\"/><path d=\"M17.41 7.96l-1.37-1.37c-.4-.4-.92-.59-1.43-.59-.52 0-1.04.2-1.43.59L10.3 9.45l-7.72 7.72c-.78.78-.78 2.05 0 2.83L4 21.41c.39.39.9.59 1.41.59.51 0 1.02-.2 1.41-.59l7.78-7.78 2.81-2.81c.8-.78.8-2.07 0-2.86zM5.41 20L4 18.59l7.72-7.72 1.47 1.35L5.41 20z\"/>\n",
              "  </svg>\n",
              "      </button>\n",
              "      \n",
              "  <style>\n",
              "    .colab-df-container {\n",
              "      display:flex;\n",
              "      flex-wrap:wrap;\n",
              "      gap: 12px;\n",
              "    }\n",
              "\n",
              "    .colab-df-convert {\n",
              "      background-color: #E8F0FE;\n",
              "      border: none;\n",
              "      border-radius: 50%;\n",
              "      cursor: pointer;\n",
              "      display: none;\n",
              "      fill: #1967D2;\n",
              "      height: 32px;\n",
              "      padding: 0 0 0 0;\n",
              "      width: 32px;\n",
              "    }\n",
              "\n",
              "    .colab-df-convert:hover {\n",
              "      background-color: #E2EBFA;\n",
              "      box-shadow: 0px 1px 2px rgba(60, 64, 67, 0.3), 0px 1px 3px 1px rgba(60, 64, 67, 0.15);\n",
              "      fill: #174EA6;\n",
              "    }\n",
              "\n",
              "    [theme=dark] .colab-df-convert {\n",
              "      background-color: #3B4455;\n",
              "      fill: #D2E3FC;\n",
              "    }\n",
              "\n",
              "    [theme=dark] .colab-df-convert:hover {\n",
              "      background-color: #434B5C;\n",
              "      box-shadow: 0px 1px 3px 1px rgba(0, 0, 0, 0.15);\n",
              "      filter: drop-shadow(0px 1px 2px rgba(0, 0, 0, 0.3));\n",
              "      fill: #FFFFFF;\n",
              "    }\n",
              "  </style>\n",
              "\n",
              "      <script>\n",
              "        const buttonEl =\n",
              "          document.querySelector('#df-31528698-5f8b-4a50-9e8c-a3b6eaf2738a button.colab-df-convert');\n",
              "        buttonEl.style.display =\n",
              "          google.colab.kernel.accessAllowed ? 'block' : 'none';\n",
              "\n",
              "        async function convertToInteractive(key) {\n",
              "          const element = document.querySelector('#df-31528698-5f8b-4a50-9e8c-a3b6eaf2738a');\n",
              "          const dataTable =\n",
              "            await google.colab.kernel.invokeFunction('convertToInteractive',\n",
              "                                                     [key], {});\n",
              "          if (!dataTable) return;\n",
              "\n",
              "          const docLinkHtml = 'Like what you see? Visit the ' +\n",
              "            '<a target=\"_blank\" href=https://colab.research.google.com/notebooks/data_table.ipynb>data table notebook</a>'\n",
              "            + ' to learn more about interactive tables.';\n",
              "          element.innerHTML = '';\n",
              "          dataTable['output_type'] = 'display_data';\n",
              "          await google.colab.output.renderOutput(dataTable, element);\n",
              "          const docLink = document.createElement('div');\n",
              "          docLink.innerHTML = docLinkHtml;\n",
              "          element.appendChild(docLink);\n",
              "        }\n",
              "      </script>\n",
              "    </div>\n",
              "  </div>\n",
              "  "
            ]
          },
          "metadata": {},
          "execution_count": 45
        }
      ]
    },
    {
      "cell_type": "markdown",
      "source": [
        "# แบ่งข้อมูล"
      ],
      "metadata": {
        "id": "gCbAfXTtRXVj"
      }
    },
    {
      "cell_type": "code",
      "source": [
        "# Load the dataset\n",
        "zoo_data = data_zoo\n",
        "\n",
        "# Separate features and labels\n",
        "X = zoo_data.drop(['animal_name', 'class_type'], axis=1)\n",
        "y = zoo_data['class_type']\n",
        "\n",
        "# Split the data into training and testing sets\n",
        "X_train, X_test, y_train, y_test = train_test_split(X, y, test_size=0.2, random_state=42)"
      ],
      "metadata": {
        "id": "srZPE_mBRWsy"
      },
      "execution_count": 33,
      "outputs": []
    },
    {
      "cell_type": "markdown",
      "source": [
        "#  DecisionTree"
      ],
      "metadata": {
        "id": "m1tZZRLiRoJ3"
      }
    },
    {
      "cell_type": "code",
      "source": [
        "import pandas as pd\n",
        "from sklearn.tree import DecisionTreeClassifier\n",
        "from sklearn.model_selection import train_test_split\n",
        "from sklearn.metrics import accuracy_score\n",
        "from sklearn.tree import export_graphviz\n",
        "import graphviz\n",
        "\n",
        "# Build the decision tree classifier\n",
        "clf = DecisionTreeClassifier(random_state=42)\n",
        "clf.fit(X_train, y_train)\n",
        "\n",
        "# Make predictions on the testing set and calculate accuracy\n",
        "y_pred = clf.predict(X_test)\n",
        "accuracy = accuracy_score(y_test, y_pred)\n",
        "print('Accuracy:', accuracy)\n",
        "\n",
        "# Export the decision tree as a dot file\n",
        "export_graphviz(clf, out_file='tree.dot', feature_names=X.columns, class_names=['1', '2', '3', '4', '5', '6', '7'])\n",
        "\n",
        "# Visualize the decision tree using graphviz\n",
        "with open('tree.dot') as f:\n",
        "    dot_graph = f.read()\n",
        "graph = graphviz.Source(dot_graph)\n",
        "graph.render('tree')\n"
      ],
      "metadata": {
        "colab": {
          "base_uri": "https://localhost:8080/",
          "height": 52
        },
        "id": "hQbs2-fvSSQx",
        "outputId": "4bc59143-61cc-4a1a-d941-73c6bdd5d498"
      },
      "execution_count": 52,
      "outputs": [
        {
          "output_type": "stream",
          "name": "stdout",
          "text": [
            "Accuracy: 0.9523809523809523\n"
          ]
        },
        {
          "output_type": "execute_result",
          "data": {
            "text/plain": [
              "'tree.pdf'"
            ],
            "application/vnd.google.colaboratory.intrinsic+json": {
              "type": "string"
            }
          },
          "metadata": {},
          "execution_count": 52
        }
      ]
    },
    {
      "cell_type": "code",
      "source": [
        "graph"
      ],
      "metadata": {
        "colab": {
          "base_uri": "https://localhost:8080/",
          "height": 1000
        },
        "id": "_JCOgKneTCUa",
        "outputId": "48d17b87-4255-4636-ba0d-f28cfd89542e"
      },
      "execution_count": 53,
      "outputs": [
        {
          "output_type": "execute_result",
          "data": {
            "image/svg+xml": "<?xml version=\"1.0\" encoding=\"UTF-8\" standalone=\"no\"?>\n<!DOCTYPE svg PUBLIC \"-//W3C//DTD SVG 1.1//EN\"\n \"http://www.w3.org/Graphics/SVG/1.1/DTD/svg11.dtd\">\n<!-- Generated by graphviz version 2.43.0 (0)\n -->\n<!-- Title: Tree Pages: 1 -->\n<svg width=\"1044pt\" height=\"909pt\"\n viewBox=\"0.00 0.00 1043.50 909.00\" xmlns=\"http://www.w3.org/2000/svg\" xmlns:xlink=\"http://www.w3.org/1999/xlink\">\n<g id=\"graph0\" class=\"graph\" transform=\"scale(1 1) rotate(0) translate(4 905)\">\n<title>Tree</title>\n<polygon fill=\"white\" stroke=\"transparent\" points=\"-4,4 -4,-905 1039.5,-905 1039.5,4 -4,4\"/>\n<!-- 0 -->\n<g id=\"node1\" class=\"node\">\n<title>0</title>\n<polygon fill=\"none\" stroke=\"black\" points=\"943,-901 751,-901 751,-818 943,-818 943,-901\"/>\n<text text-anchor=\"middle\" x=\"847\" y=\"-885.8\" font-family=\"Helvetica,sans-Serif\" font-size=\"14.00\">milk &lt;= 0.5</text>\n<text text-anchor=\"middle\" x=\"847\" y=\"-870.8\" font-family=\"Helvetica,sans-Serif\" font-size=\"14.00\">gini = 0.778</text>\n<text text-anchor=\"middle\" x=\"847\" y=\"-855.8\" font-family=\"Helvetica,sans-Serif\" font-size=\"14.00\">samples = 80</text>\n<text text-anchor=\"middle\" x=\"847\" y=\"-840.8\" font-family=\"Helvetica,sans-Serif\" font-size=\"14.00\">value = [29, 18, 4, 11, 4, 5, 9]</text>\n<text text-anchor=\"middle\" x=\"847\" y=\"-825.8\" font-family=\"Helvetica,sans-Serif\" font-size=\"14.00\">class = 1</text>\n</g>\n<!-- 1 -->\n<g id=\"node2\" class=\"node\">\n<title>1</title>\n<polygon fill=\"none\" stroke=\"black\" points=\"840.5,-782 655.5,-782 655.5,-699 840.5,-699 840.5,-782\"/>\n<text text-anchor=\"middle\" x=\"748\" y=\"-766.8\" font-family=\"Helvetica,sans-Serif\" font-size=\"14.00\">feathers &lt;= 0.5</text>\n<text text-anchor=\"middle\" x=\"748\" y=\"-751.8\" font-family=\"Helvetica,sans-Serif\" font-size=\"14.00\">gini = 0.776</text>\n<text text-anchor=\"middle\" x=\"748\" y=\"-736.8\" font-family=\"Helvetica,sans-Serif\" font-size=\"14.00\">samples = 51</text>\n<text text-anchor=\"middle\" x=\"748\" y=\"-721.8\" font-family=\"Helvetica,sans-Serif\" font-size=\"14.00\">value = [0, 18, 4, 11, 4, 5, 9]</text>\n<text text-anchor=\"middle\" x=\"748\" y=\"-706.8\" font-family=\"Helvetica,sans-Serif\" font-size=\"14.00\">class = 2</text>\n</g>\n<!-- 0&#45;&gt;1 -->\n<g id=\"edge1\" class=\"edge\">\n<title>0&#45;&gt;1</title>\n<path fill=\"none\" stroke=\"black\" d=\"M812.65,-817.91C804.97,-808.83 796.76,-799.12 788.84,-789.77\"/>\n<polygon fill=\"black\" stroke=\"black\" points=\"791.42,-787.39 782.29,-782.02 786.07,-791.92 791.42,-787.39\"/>\n<text text-anchor=\"middle\" x=\"780.21\" y=\"-803.23\" font-family=\"Helvetica,sans-Serif\" font-size=\"14.00\">True</text>\n</g>\n<!-- 16 -->\n<g id=\"node17\" class=\"node\">\n<title>16</title>\n<polygon fill=\"none\" stroke=\"black\" points=\"1035.5,-774.5 858.5,-774.5 858.5,-706.5 1035.5,-706.5 1035.5,-774.5\"/>\n<text text-anchor=\"middle\" x=\"947\" y=\"-759.3\" font-family=\"Helvetica,sans-Serif\" font-size=\"14.00\">gini = 0.0</text>\n<text text-anchor=\"middle\" x=\"947\" y=\"-744.3\" font-family=\"Helvetica,sans-Serif\" font-size=\"14.00\">samples = 29</text>\n<text text-anchor=\"middle\" x=\"947\" y=\"-729.3\" font-family=\"Helvetica,sans-Serif\" font-size=\"14.00\">value = [29, 0, 0, 0, 0, 0, 0]</text>\n<text text-anchor=\"middle\" x=\"947\" y=\"-714.3\" font-family=\"Helvetica,sans-Serif\" font-size=\"14.00\">class = 1</text>\n</g>\n<!-- 0&#45;&gt;16 -->\n<g id=\"edge16\" class=\"edge\">\n<title>0&#45;&gt;16</title>\n<path fill=\"none\" stroke=\"black\" d=\"M881.69,-817.91C891.5,-806.43 902.18,-793.94 912.01,-782.44\"/>\n<polygon fill=\"black\" stroke=\"black\" points=\"914.82,-784.54 918.65,-774.67 909.49,-779.99 914.82,-784.54\"/>\n<text text-anchor=\"middle\" x=\"920.6\" y=\"-795.89\" font-family=\"Helvetica,sans-Serif\" font-size=\"14.00\">False</text>\n</g>\n<!-- 2 -->\n<g id=\"node3\" class=\"node\">\n<title>2</title>\n<polygon fill=\"none\" stroke=\"black\" points=\"739.5,-663 562.5,-663 562.5,-580 739.5,-580 739.5,-663\"/>\n<text text-anchor=\"middle\" x=\"651\" y=\"-647.8\" font-family=\"Helvetica,sans-Serif\" font-size=\"14.00\">fins &lt;= 0.5</text>\n<text text-anchor=\"middle\" x=\"651\" y=\"-632.8\" font-family=\"Helvetica,sans-Serif\" font-size=\"14.00\">gini = 0.762</text>\n<text text-anchor=\"middle\" x=\"651\" y=\"-617.8\" font-family=\"Helvetica,sans-Serif\" font-size=\"14.00\">samples = 33</text>\n<text text-anchor=\"middle\" x=\"651\" y=\"-602.8\" font-family=\"Helvetica,sans-Serif\" font-size=\"14.00\">value = [0, 0, 4, 11, 4, 5, 9]</text>\n<text text-anchor=\"middle\" x=\"651\" y=\"-587.8\" font-family=\"Helvetica,sans-Serif\" font-size=\"14.00\">class = 4</text>\n</g>\n<!-- 1&#45;&gt;2 -->\n<g id=\"edge2\" class=\"edge\">\n<title>1&#45;&gt;2</title>\n<path fill=\"none\" stroke=\"black\" d=\"M714.35,-698.91C706.82,-689.83 698.77,-680.12 691.02,-670.77\"/>\n<polygon fill=\"black\" stroke=\"black\" points=\"693.67,-668.49 684.59,-663.02 688.28,-672.95 693.67,-668.49\"/>\n</g>\n<!-- 15 -->\n<g id=\"node16\" class=\"node\">\n<title>15</title>\n<polygon fill=\"none\" stroke=\"black\" points=\"934.5,-655.5 757.5,-655.5 757.5,-587.5 934.5,-587.5 934.5,-655.5\"/>\n<text text-anchor=\"middle\" x=\"846\" y=\"-640.3\" font-family=\"Helvetica,sans-Serif\" font-size=\"14.00\">gini = 0.0</text>\n<text text-anchor=\"middle\" x=\"846\" y=\"-625.3\" font-family=\"Helvetica,sans-Serif\" font-size=\"14.00\">samples = 18</text>\n<text text-anchor=\"middle\" x=\"846\" y=\"-610.3\" font-family=\"Helvetica,sans-Serif\" font-size=\"14.00\">value = [0, 18, 0, 0, 0, 0, 0]</text>\n<text text-anchor=\"middle\" x=\"846\" y=\"-595.3\" font-family=\"Helvetica,sans-Serif\" font-size=\"14.00\">class = 2</text>\n</g>\n<!-- 1&#45;&gt;15 -->\n<g id=\"edge15\" class=\"edge\">\n<title>1&#45;&gt;15</title>\n<path fill=\"none\" stroke=\"black\" d=\"M782,-698.91C791.61,-687.43 802.08,-674.94 811.71,-663.44\"/>\n<polygon fill=\"black\" stroke=\"black\" points=\"814.48,-665.58 818.22,-655.67 809.11,-661.09 814.48,-665.58\"/>\n</g>\n<!-- 3 -->\n<g id=\"node4\" class=\"node\">\n<title>3</title>\n<polygon fill=\"none\" stroke=\"black\" points=\"640,-544 470,-544 470,-461 640,-461 640,-544\"/>\n<text text-anchor=\"middle\" x=\"555\" y=\"-528.8\" font-family=\"Helvetica,sans-Serif\" font-size=\"14.00\">backbone &lt;= 0.5</text>\n<text text-anchor=\"middle\" x=\"555\" y=\"-513.8\" font-family=\"Helvetica,sans-Serif\" font-size=\"14.00\">gini = 0.715</text>\n<text text-anchor=\"middle\" x=\"555\" y=\"-498.8\" font-family=\"Helvetica,sans-Serif\" font-size=\"14.00\">samples = 22</text>\n<text text-anchor=\"middle\" x=\"555\" y=\"-483.8\" font-family=\"Helvetica,sans-Serif\" font-size=\"14.00\">value = [0, 0, 4, 0, 4, 5, 9]</text>\n<text text-anchor=\"middle\" x=\"555\" y=\"-468.8\" font-family=\"Helvetica,sans-Serif\" font-size=\"14.00\">class = 7</text>\n</g>\n<!-- 2&#45;&gt;3 -->\n<g id=\"edge3\" class=\"edge\">\n<title>2&#45;&gt;3</title>\n<path fill=\"none\" stroke=\"black\" d=\"M617.69,-579.91C610.25,-570.83 602.28,-561.12 594.61,-551.77\"/>\n<polygon fill=\"black\" stroke=\"black\" points=\"597.3,-549.53 588.25,-544.02 591.89,-553.97 597.3,-549.53\"/>\n</g>\n<!-- 14 -->\n<g id=\"node15\" class=\"node\">\n<title>14</title>\n<polygon fill=\"none\" stroke=\"black\" points=\"835.5,-536.5 658.5,-536.5 658.5,-468.5 835.5,-468.5 835.5,-536.5\"/>\n<text text-anchor=\"middle\" x=\"747\" y=\"-521.3\" font-family=\"Helvetica,sans-Serif\" font-size=\"14.00\">gini = 0.0</text>\n<text text-anchor=\"middle\" x=\"747\" y=\"-506.3\" font-family=\"Helvetica,sans-Serif\" font-size=\"14.00\">samples = 11</text>\n<text text-anchor=\"middle\" x=\"747\" y=\"-491.3\" font-family=\"Helvetica,sans-Serif\" font-size=\"14.00\">value = [0, 0, 0, 11, 0, 0, 0]</text>\n<text text-anchor=\"middle\" x=\"747\" y=\"-476.3\" font-family=\"Helvetica,sans-Serif\" font-size=\"14.00\">class = 4</text>\n</g>\n<!-- 2&#45;&gt;14 -->\n<g id=\"edge14\" class=\"edge\">\n<title>2&#45;&gt;14</title>\n<path fill=\"none\" stroke=\"black\" d=\"M684.31,-579.91C693.72,-568.43 703.97,-555.94 713.41,-544.44\"/>\n<polygon fill=\"black\" stroke=\"black\" points=\"716.15,-546.62 719.79,-536.67 710.74,-542.18 716.15,-546.62\"/>\n</g>\n<!-- 4 -->\n<g id=\"node5\" class=\"node\">\n<title>4</title>\n<polygon fill=\"none\" stroke=\"black\" points=\"546,-425 376,-425 376,-342 546,-342 546,-425\"/>\n<text text-anchor=\"middle\" x=\"461\" y=\"-409.8\" font-family=\"Helvetica,sans-Serif\" font-size=\"14.00\">airborne &lt;= 0.5</text>\n<text text-anchor=\"middle\" x=\"461\" y=\"-394.8\" font-family=\"Helvetica,sans-Serif\" font-size=\"14.00\">gini = 0.459</text>\n<text text-anchor=\"middle\" x=\"461\" y=\"-379.8\" font-family=\"Helvetica,sans-Serif\" font-size=\"14.00\">samples = 14</text>\n<text text-anchor=\"middle\" x=\"461\" y=\"-364.8\" font-family=\"Helvetica,sans-Serif\" font-size=\"14.00\">value = [0, 0, 0, 0, 0, 5, 9]</text>\n<text text-anchor=\"middle\" x=\"461\" y=\"-349.8\" font-family=\"Helvetica,sans-Serif\" font-size=\"14.00\">class = 7</text>\n</g>\n<!-- 3&#45;&gt;4 -->\n<g id=\"edge4\" class=\"edge\">\n<title>3&#45;&gt;4</title>\n<path fill=\"none\" stroke=\"black\" d=\"M522.39,-460.91C515.17,-451.92 507.45,-442.32 500.01,-433.05\"/>\n<polygon fill=\"black\" stroke=\"black\" points=\"502.55,-430.62 493.56,-425.02 497.09,-435.01 502.55,-430.62\"/>\n</g>\n<!-- 11 -->\n<g id=\"node12\" class=\"node\">\n<title>11</title>\n<polygon fill=\"none\" stroke=\"black\" points=\"734,-425 564,-425 564,-342 734,-342 734,-425\"/>\n<text text-anchor=\"middle\" x=\"649\" y=\"-409.8\" font-family=\"Helvetica,sans-Serif\" font-size=\"14.00\">aquatic &lt;= 0.5</text>\n<text text-anchor=\"middle\" x=\"649\" y=\"-394.8\" font-family=\"Helvetica,sans-Serif\" font-size=\"14.00\">gini = 0.5</text>\n<text text-anchor=\"middle\" x=\"649\" y=\"-379.8\" font-family=\"Helvetica,sans-Serif\" font-size=\"14.00\">samples = 8</text>\n<text text-anchor=\"middle\" x=\"649\" y=\"-364.8\" font-family=\"Helvetica,sans-Serif\" font-size=\"14.00\">value = [0, 0, 4, 0, 4, 0, 0]</text>\n<text text-anchor=\"middle\" x=\"649\" y=\"-349.8\" font-family=\"Helvetica,sans-Serif\" font-size=\"14.00\">class = 3</text>\n</g>\n<!-- 3&#45;&gt;11 -->\n<g id=\"edge11\" class=\"edge\">\n<title>3&#45;&gt;11</title>\n<path fill=\"none\" stroke=\"black\" d=\"M587.61,-460.91C594.83,-451.92 602.55,-442.32 609.99,-433.05\"/>\n<polygon fill=\"black\" stroke=\"black\" points=\"612.91,-435.01 616.44,-425.02 607.45,-430.62 612.91,-435.01\"/>\n</g>\n<!-- 5 -->\n<g id=\"node6\" class=\"node\">\n<title>5</title>\n<polygon fill=\"none\" stroke=\"black\" points=\"358,-306 188,-306 188,-223 358,-223 358,-306\"/>\n<text text-anchor=\"middle\" x=\"273\" y=\"-290.8\" font-family=\"Helvetica,sans-Serif\" font-size=\"14.00\">predator &lt;= 0.5</text>\n<text text-anchor=\"middle\" x=\"273\" y=\"-275.8\" font-family=\"Helvetica,sans-Serif\" font-size=\"14.00\">gini = 0.298</text>\n<text text-anchor=\"middle\" x=\"273\" y=\"-260.8\" font-family=\"Helvetica,sans-Serif\" font-size=\"14.00\">samples = 11</text>\n<text text-anchor=\"middle\" x=\"273\" y=\"-245.8\" font-family=\"Helvetica,sans-Serif\" font-size=\"14.00\">value = [0, 0, 0, 0, 0, 2, 9]</text>\n<text text-anchor=\"middle\" x=\"273\" y=\"-230.8\" font-family=\"Helvetica,sans-Serif\" font-size=\"14.00\">class = 7</text>\n</g>\n<!-- 4&#45;&gt;5 -->\n<g id=\"edge5\" class=\"edge\">\n<title>4&#45;&gt;5</title>\n<path fill=\"none\" stroke=\"black\" d=\"M395.77,-341.91C380.03,-332.11 363.08,-321.56 346.97,-311.53\"/>\n<polygon fill=\"black\" stroke=\"black\" points=\"348.45,-308.33 338.11,-306.02 344.75,-314.28 348.45,-308.33\"/>\n</g>\n<!-- 10 -->\n<g id=\"node11\" class=\"node\">\n<title>10</title>\n<polygon fill=\"none\" stroke=\"black\" points=\"546,-298.5 376,-298.5 376,-230.5 546,-230.5 546,-298.5\"/>\n<text text-anchor=\"middle\" x=\"461\" y=\"-283.3\" font-family=\"Helvetica,sans-Serif\" font-size=\"14.00\">gini = 0.0</text>\n<text text-anchor=\"middle\" x=\"461\" y=\"-268.3\" font-family=\"Helvetica,sans-Serif\" font-size=\"14.00\">samples = 3</text>\n<text text-anchor=\"middle\" x=\"461\" y=\"-253.3\" font-family=\"Helvetica,sans-Serif\" font-size=\"14.00\">value = [0, 0, 0, 0, 0, 3, 0]</text>\n<text text-anchor=\"middle\" x=\"461\" y=\"-238.3\" font-family=\"Helvetica,sans-Serif\" font-size=\"14.00\">class = 6</text>\n</g>\n<!-- 4&#45;&gt;10 -->\n<g id=\"edge10\" class=\"edge\">\n<title>4&#45;&gt;10</title>\n<path fill=\"none\" stroke=\"black\" d=\"M461,-341.91C461,-331.2 461,-319.62 461,-308.78\"/>\n<polygon fill=\"black\" stroke=\"black\" points=\"464.5,-308.67 461,-298.67 457.5,-308.67 464.5,-308.67\"/>\n</g>\n<!-- 6 -->\n<g id=\"node7\" class=\"node\">\n<title>6</title>\n<polygon fill=\"none\" stroke=\"black\" points=\"264,-187 94,-187 94,-104 264,-104 264,-187\"/>\n<text text-anchor=\"middle\" x=\"179\" y=\"-171.8\" font-family=\"Helvetica,sans-Serif\" font-size=\"14.00\">legs &lt;= 3.0</text>\n<text text-anchor=\"middle\" x=\"179\" y=\"-156.8\" font-family=\"Helvetica,sans-Serif\" font-size=\"14.00\">gini = 0.5</text>\n<text text-anchor=\"middle\" x=\"179\" y=\"-141.8\" font-family=\"Helvetica,sans-Serif\" font-size=\"14.00\">samples = 4</text>\n<text text-anchor=\"middle\" x=\"179\" y=\"-126.8\" font-family=\"Helvetica,sans-Serif\" font-size=\"14.00\">value = [0, 0, 0, 0, 0, 2, 2]</text>\n<text text-anchor=\"middle\" x=\"179\" y=\"-111.8\" font-family=\"Helvetica,sans-Serif\" font-size=\"14.00\">class = 6</text>\n</g>\n<!-- 5&#45;&gt;6 -->\n<g id=\"edge6\" class=\"edge\">\n<title>5&#45;&gt;6</title>\n<path fill=\"none\" stroke=\"black\" d=\"M240.39,-222.91C233.17,-213.92 225.45,-204.32 218.01,-195.05\"/>\n<polygon fill=\"black\" stroke=\"black\" points=\"220.55,-192.62 211.56,-187.02 215.09,-197.01 220.55,-192.62\"/>\n</g>\n<!-- 9 -->\n<g id=\"node10\" class=\"node\">\n<title>9</title>\n<polygon fill=\"none\" stroke=\"black\" points=\"452,-179.5 282,-179.5 282,-111.5 452,-111.5 452,-179.5\"/>\n<text text-anchor=\"middle\" x=\"367\" y=\"-164.3\" font-family=\"Helvetica,sans-Serif\" font-size=\"14.00\">gini = 0.0</text>\n<text text-anchor=\"middle\" x=\"367\" y=\"-149.3\" font-family=\"Helvetica,sans-Serif\" font-size=\"14.00\">samples = 7</text>\n<text text-anchor=\"middle\" x=\"367\" y=\"-134.3\" font-family=\"Helvetica,sans-Serif\" font-size=\"14.00\">value = [0, 0, 0, 0, 0, 0, 7]</text>\n<text text-anchor=\"middle\" x=\"367\" y=\"-119.3\" font-family=\"Helvetica,sans-Serif\" font-size=\"14.00\">class = 7</text>\n</g>\n<!-- 5&#45;&gt;9 -->\n<g id=\"edge9\" class=\"edge\">\n<title>5&#45;&gt;9</title>\n<path fill=\"none\" stroke=\"black\" d=\"M305.61,-222.91C314.74,-211.54 324.68,-199.18 333.84,-187.77\"/>\n<polygon fill=\"black\" stroke=\"black\" points=\"336.82,-189.65 340.35,-179.67 331.36,-185.27 336.82,-189.65\"/>\n</g>\n<!-- 7 -->\n<g id=\"node8\" class=\"node\">\n<title>7</title>\n<polygon fill=\"none\" stroke=\"black\" points=\"170,-68 0,-68 0,0 170,0 170,-68\"/>\n<text text-anchor=\"middle\" x=\"85\" y=\"-52.8\" font-family=\"Helvetica,sans-Serif\" font-size=\"14.00\">gini = 0.0</text>\n<text text-anchor=\"middle\" x=\"85\" y=\"-37.8\" font-family=\"Helvetica,sans-Serif\" font-size=\"14.00\">samples = 2</text>\n<text text-anchor=\"middle\" x=\"85\" y=\"-22.8\" font-family=\"Helvetica,sans-Serif\" font-size=\"14.00\">value = [0, 0, 0, 0, 0, 0, 2]</text>\n<text text-anchor=\"middle\" x=\"85\" y=\"-7.8\" font-family=\"Helvetica,sans-Serif\" font-size=\"14.00\">class = 7</text>\n</g>\n<!-- 6&#45;&gt;7 -->\n<g id=\"edge7\" class=\"edge\">\n<title>6&#45;&gt;7</title>\n<path fill=\"none\" stroke=\"black\" d=\"M144,-103.73C136.25,-94.7 128.03,-85.12 120.27,-76.08\"/>\n<polygon fill=\"black\" stroke=\"black\" points=\"122.76,-73.61 113.59,-68.3 117.44,-78.17 122.76,-73.61\"/>\n</g>\n<!-- 8 -->\n<g id=\"node9\" class=\"node\">\n<title>8</title>\n<polygon fill=\"none\" stroke=\"black\" points=\"358,-68 188,-68 188,0 358,0 358,-68\"/>\n<text text-anchor=\"middle\" x=\"273\" y=\"-52.8\" font-family=\"Helvetica,sans-Serif\" font-size=\"14.00\">gini = 0.0</text>\n<text text-anchor=\"middle\" x=\"273\" y=\"-37.8\" font-family=\"Helvetica,sans-Serif\" font-size=\"14.00\">samples = 2</text>\n<text text-anchor=\"middle\" x=\"273\" y=\"-22.8\" font-family=\"Helvetica,sans-Serif\" font-size=\"14.00\">value = [0, 0, 0, 0, 0, 2, 0]</text>\n<text text-anchor=\"middle\" x=\"273\" y=\"-7.8\" font-family=\"Helvetica,sans-Serif\" font-size=\"14.00\">class = 6</text>\n</g>\n<!-- 6&#45;&gt;8 -->\n<g id=\"edge8\" class=\"edge\">\n<title>6&#45;&gt;8</title>\n<path fill=\"none\" stroke=\"black\" d=\"M214,-103.73C221.75,-94.7 229.97,-85.12 237.73,-76.08\"/>\n<polygon fill=\"black\" stroke=\"black\" points=\"240.56,-78.17 244.41,-68.3 235.24,-73.61 240.56,-78.17\"/>\n</g>\n<!-- 12 -->\n<g id=\"node13\" class=\"node\">\n<title>12</title>\n<polygon fill=\"none\" stroke=\"black\" points=\"734,-298.5 564,-298.5 564,-230.5 734,-230.5 734,-298.5\"/>\n<text text-anchor=\"middle\" x=\"649\" y=\"-283.3\" font-family=\"Helvetica,sans-Serif\" font-size=\"14.00\">gini = 0.0</text>\n<text text-anchor=\"middle\" x=\"649\" y=\"-268.3\" font-family=\"Helvetica,sans-Serif\" font-size=\"14.00\">samples = 4</text>\n<text text-anchor=\"middle\" x=\"649\" y=\"-253.3\" font-family=\"Helvetica,sans-Serif\" font-size=\"14.00\">value = [0, 0, 4, 0, 0, 0, 0]</text>\n<text text-anchor=\"middle\" x=\"649\" y=\"-238.3\" font-family=\"Helvetica,sans-Serif\" font-size=\"14.00\">class = 3</text>\n</g>\n<!-- 11&#45;&gt;12 -->\n<g id=\"edge12\" class=\"edge\">\n<title>11&#45;&gt;12</title>\n<path fill=\"none\" stroke=\"black\" d=\"M649,-341.91C649,-331.2 649,-319.62 649,-308.78\"/>\n<polygon fill=\"black\" stroke=\"black\" points=\"652.5,-308.67 649,-298.67 645.5,-308.67 652.5,-308.67\"/>\n</g>\n<!-- 13 -->\n<g id=\"node14\" class=\"node\">\n<title>13</title>\n<polygon fill=\"none\" stroke=\"black\" points=\"922,-298.5 752,-298.5 752,-230.5 922,-230.5 922,-298.5\"/>\n<text text-anchor=\"middle\" x=\"837\" y=\"-283.3\" font-family=\"Helvetica,sans-Serif\" font-size=\"14.00\">gini = 0.0</text>\n<text text-anchor=\"middle\" x=\"837\" y=\"-268.3\" font-family=\"Helvetica,sans-Serif\" font-size=\"14.00\">samples = 4</text>\n<text text-anchor=\"middle\" x=\"837\" y=\"-253.3\" font-family=\"Helvetica,sans-Serif\" font-size=\"14.00\">value = [0, 0, 0, 0, 4, 0, 0]</text>\n<text text-anchor=\"middle\" x=\"837\" y=\"-238.3\" font-family=\"Helvetica,sans-Serif\" font-size=\"14.00\">class = 5</text>\n</g>\n<!-- 11&#45;&gt;13 -->\n<g id=\"edge13\" class=\"edge\">\n<title>11&#45;&gt;13</title>\n<path fill=\"none\" stroke=\"black\" d=\"M714.23,-341.91C734,-329.6 755.64,-316.13 775.18,-303.97\"/>\n<polygon fill=\"black\" stroke=\"black\" points=\"777.07,-306.92 783.71,-298.67 773.37,-300.98 777.07,-306.92\"/>\n</g>\n</g>\n</svg>\n",
            "text/plain": [
              "<graphviz.sources.Source at 0x7fa4ed29d9d0>"
            ]
          },
          "metadata": {},
          "execution_count": 53
        }
      ]
    },
    {
      "cell_type": "markdown",
      "source": [
        "# KNN"
      ],
      "metadata": {
        "id": "CeaXJ5ZzRhgj"
      }
    },
    {
      "cell_type": "code",
      "source": [
        "from sklearn.neighbors import KNeighborsClassifier\n",
        "from sklearn.metrics import accuracy_score"
      ],
      "metadata": {
        "id": "3u9ViV0bTI86"
      },
      "execution_count": 76,
      "outputs": []
    },
    {
      "cell_type": "code",
      "source": [
        "from sklearn.model_selection import cross_val_score\n",
        "knn_distance = KNeighborsClassifier(n_neighbors=1, weights='distance')\n",
        "scores = cross_val_score(knn_distance, X_train, y_train, cv=10)\n",
        "print(\"Mean Cross-Validation Score: K1weighted\", scores.mean())\n",
        "\n",
        "# model 2 (K=3, weighted)\n",
        "knn_distance = KNeighborsClassifier(n_neighbors=3, weights='distance')\n",
        "scores = cross_val_score(knn_distance, X_train, y_train, cv=10)\n",
        "print(\"Mean Cross-Validation Score: K3weighted\", scores.mean())\n",
        "\n",
        "# model 3 (K=5, weighted)\n",
        "knn_distance = KNeighborsClassifier(n_neighbors=5, weights='distance')\n",
        "scores = cross_val_score(knn_distance, X_train, y_train, cv=10)\n",
        "print(\"Mean Cross-Validation Score: K5weighted\", scores.mean())\n",
        "\n",
        "# model 4 (K=1, no weighted)\n",
        "knn_distance = KNeighborsClassifier(n_neighbors=1, weights='uniform')\n",
        "scores = cross_val_score(knn_distance, X_train, y_train, cv=10)\n",
        "print(\"Mean Cross-Validation Score: K1NOweighted\", scores.mean())\n",
        "\n",
        "# model 5 (K=3, no weighted)\n",
        "knn_distance = KNeighborsClassifier(n_neighbors=3, weights='uniform')\n",
        "scores = cross_val_score(knn_distance, X_train, y_train, cv=10)\n",
        "print(\"Mean Cross-Validation Score: K3NOweighted\", scores.mean())\n",
        "\n",
        "# model 6 (K=5, no weighted)\n",
        "knn_distance = KNeighborsClassifier(n_neighbors=5, weights='uniform')\n",
        "scores = cross_val_score(knn_distance, X_train, y_train, cv=10)\n",
        "print(\"Mean Cross-Validation Score: KNOweighted\", scores.mean())"
      ],
      "metadata": {
        "id": "Dls9vZj7TK36"
      },
      "execution_count": null,
      "outputs": []
    },
    {
      "cell_type": "code",
      "source": [
        "knn_distance1 = KNeighborsClassifier(n_neighbors=5, weights='uniform')\n",
        "knn_distance1.fit(X_train,y_train)\n",
        "\n",
        "yknn_pred1 = knn_distance1.predict(X_test)"
      ],
      "metadata": {
        "id": "4OsihejNTbNf"
      },
      "execution_count": 74,
      "outputs": []
    },
    {
      "cell_type": "code",
      "source": [
        "from sklearn.metrics import accuracy_score\n",
        "\n",
        "# Assume y_true and y_pred are the true and predicted labels, respectively\n",
        "accuracykkn1 = accuracy_score(y_test, yknn_pred1)\n",
        "\n",
        "# Print the accuracy score\n",
        "print(\"แสดงว่า Model KNN นี้มีแสดงประสิทธิภาพในการจำแนกประเภทของสัตว์เท่ากับ\", accuracykkn1 )"
      ],
      "metadata": {
        "colab": {
          "base_uri": "https://localhost:8080/"
        },
        "id": "Z0r-vQ-eUKVs",
        "outputId": "150bbd16-fbc7-4c10-8d92-7cc6130446e9"
      },
      "execution_count": 75,
      "outputs": [
        {
          "output_type": "stream",
          "name": "stdout",
          "text": [
            "แสดงว่า Model KNN นี้มีแสดงประสิทธิภาพในการจำแนกประเภทของสัตว์เท่ากับ 0.9047619047619048\n"
          ]
        }
      ]
    },
    {
      "cell_type": "markdown",
      "source": [
        "# Naive_bayes"
      ],
      "metadata": {
        "id": "AZ6g4O6kRkU0"
      }
    },
    {
      "cell_type": "code",
      "source": [
        "# Import necessary libraries\n",
        "import pandas as pd\n",
        "from sklearn.model_selection import train_test_split\n",
        "from sklearn.naive_bayes import GaussianNB\n",
        "from sklearn.metrics import accuracy_score\n",
        "\n",
        "# Split the data into training and testing sets\n",
        "X_train, X_test, y_train, y_test = train_test_split(X, y, test_size=0.2, random_state=42)\n",
        "\n",
        "# Create the Naive Bayes classifier\n",
        "nb = GaussianNB()\n",
        "\n",
        "# Fit the model to the training data\n",
        "nb.fit(X_train, y_train)\n",
        "\n",
        "# Predict the class labels for the testing set\n",
        "y_pred = nb.predict(X_test)\n",
        "\n",
        "# Calculate the accuracy score of the model\n",
        "accuracy = accuracy_score(y_test, y_pred)\n",
        "\n",
        "# Print the accuracy score\n",
        "print(\"Accuracy:\", accuracy)\n"
      ],
      "metadata": {
        "colab": {
          "base_uri": "https://localhost:8080/"
        },
        "id": "U5m_unG5NSkX",
        "outputId": "44f83a09-8df6-4417-9bb9-97853ff79cb9"
      },
      "execution_count": 35,
      "outputs": [
        {
          "output_type": "stream",
          "name": "stdout",
          "text": [
            "Accuracy: 0.9523809523809523\n"
          ]
        }
      ]
    },
    {
      "cell_type": "markdown",
      "source": [
        "##สรุปจากการคำนวณความแม่นยำของโมเดล\n",
        "1.  Model DecisionTree \n",
        "   * ได้ค่า Accuracy เท่ากับ 0.9523809523809523\n",
        "\n",
        "2. KNeighbors\n",
        "   * Model ที่ดีที่สุดคือ K=5, no weighted ซึ่งมีค่า Mean Cross-Validation Score เท่ากับ 0.975\n",
        "   * ได้ค่า Accuracy เท่ากับ 0.9047619047619048\n",
        "\n",
        "3. NaiveBayes\n",
        "   * ได่ค่า Accuracy เท่ากับ 0.9523809523809523\n",
        "\n",
        "#จึงสรุปว่า\n",
        "สามารถเลือกใช้โมเดล  DecisionTree หรือ NaiveBayes ได้ทั้งสองโมเดลเนื่องจากมีค่า Accuracy เท่ากัน\n"
      ],
      "metadata": {
        "id": "zhDkn_TxVwxH"
      }
    },
    {
      "cell_type": "markdown",
      "source": [
        "# Association rules ของแต่ละลักษณะ "
      ],
      "metadata": {
        "id": "ysotYYooPhpw"
      }
    },
    {
      "cell_type": "code",
      "source": [
        "!pip install apyori\n",
        "import numpy as np\n",
        "import matplotlib.pyplot as plt\n",
        "from apyori import apriori"
      ],
      "metadata": {
        "colab": {
          "base_uri": "https://localhost:8080/"
        },
        "id": "Bh2xnpzhe9MO",
        "outputId": "06b57c81-b5b8-4ac9-c9cf-6554fe0dc824"
      },
      "execution_count": 120,
      "outputs": [
        {
          "output_type": "stream",
          "name": "stdout",
          "text": [
            "Looking in indexes: https://pypi.org/simple, https://us-python.pkg.dev/colab-wheels/public/simple/\n",
            "Collecting apyori\n",
            "  Downloading apyori-1.1.2.tar.gz (8.6 kB)\n",
            "  Preparing metadata (setup.py) ... \u001b[?25l\u001b[?25hdone\n",
            "Building wheels for collected packages: apyori\n",
            "  Building wheel for apyori (setup.py) ... \u001b[?25l\u001b[?25hdone\n",
            "  Created wheel for apyori: filename=apyori-1.1.2-py3-none-any.whl size=5976 sha256=19ffa07db172575c7c7454676f36ba70ff6693de1d0c0f17f83b374c860f5616\n",
            "  Stored in directory: /root/.cache/pip/wheels/32/2a/54/10c595515f385f3726642b10c60bf788029e8f3a1323e3913a\n",
            "Successfully built apyori\n",
            "Installing collected packages: apyori\n",
            "Successfully installed apyori-1.1.2\n"
          ]
        }
      ]
    }
  ]
}