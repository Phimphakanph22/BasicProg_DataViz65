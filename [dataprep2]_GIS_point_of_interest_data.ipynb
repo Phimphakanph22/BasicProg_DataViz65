{
  "nbformat": 4,
  "nbformat_minor": 0,
  "metadata": {
    "colab": {
      "provenance": [],
      "include_colab_link": true
    },
    "kernelspec": {
      "name": "python3",
      "display_name": "Python 3"
    },
    "language_info": {
      "name": "python"
    }
  },
  "cells": [
    {
      "cell_type": "markdown",
      "metadata": {
        "id": "view-in-github",
        "colab_type": "text"
      },
      "source": [
        "<a href=\"https://colab.research.google.com/github/Phimphakanph22/BasicProg_DataViz65/blob/main/%5Bdataprep2%5D_GIS_point_of_interest_data.ipynb\" target=\"_parent\"><img src=\"https://colab.research.google.com/assets/colab-badge.svg\" alt=\"Open In Colab\"/></a>"
      ]
    },
    {
      "cell_type": "code",
      "execution_count": 1,
      "metadata": {
        "id": "SXlBlPOXuJAf"
      },
      "outputs": [],
      "source": [
        "import pandas as pd\n",
        "import json"
      ]
    },
    {
      "cell_type": "code",
      "source": [
        "from google.colab import drive\n",
        "drive.mount ('/content/drive')"
      ],
      "metadata": {
        "colab": {
          "base_uri": "https://localhost:8080/"
        },
        "id": "Vcj0dT5MuUau",
        "outputId": "6b1c0aa8-99d5-4c66-d4f2-32139a96997e"
      },
      "execution_count": 2,
      "outputs": [
        {
          "output_type": "stream",
          "name": "stdout",
          "text": [
            "Mounted at /content/drive\n"
          ]
        }
      ]
    },
    {
      "cell_type": "code",
      "source": [
        "with open ('/content/drive/MyDrive/DPDM/7-eleven.json') as json_file:\n",
        "    this_json = json.loads(json_file.read())"
      ],
      "metadata": {
        "id": "ivjunzk9ulkI"
      },
      "execution_count": 3,
      "outputs": []
    },
    {
      "cell_type": "code",
      "source": [
        "this_json.keys()"
      ],
      "metadata": {
        "id": "00YG1VDSvwgR"
      },
      "execution_count": null,
      "outputs": []
    },
    {
      "cell_type": "code",
      "source": [
        "len(this_json)"
      ],
      "metadata": {
        "colab": {
          "base_uri": "https://localhost:8080/"
        },
        "id": "fhBUxAVNv9YG",
        "outputId": "dcc00516-677e-4f19-c251-58a34ebbeaf7"
      },
      "execution_count": 6,
      "outputs": [
        {
          "output_type": "execute_result",
          "data": {
            "text/plain": [
              "3653"
            ]
          },
          "metadata": {},
          "execution_count": 6
        }
      ]
    },
    {
      "cell_type": "code",
      "source": [
        "c = list()\n",
        "for row in this_json['6']:\n",
        "        c.append(row['geometry']['location'])"
      ],
      "metadata": {
        "id": "G2CkpiQZxsa8"
      },
      "execution_count": 7,
      "outputs": []
    },
    {
      "cell_type": "code",
      "source": [
        "c"
      ],
      "metadata": {
        "colab": {
          "base_uri": "https://localhost:8080/"
        },
        "id": "JNA0G4Oey8Rr",
        "outputId": "899e945d-c972-4524-c653-f5d5cac71687"
      },
      "execution_count": 8,
      "outputs": [
        {
          "output_type": "execute_result",
          "data": {
            "text/plain": [
              "[{'lat': 16.0603149, 'lng': 102.7264856},\n",
              " {'lat': 16.0564741, 'lng': 102.7268436},\n",
              " {'lat': 16.0595413, 'lng': 102.7294307},\n",
              " {'lat': 16.0751998, 'lng': 102.7356017},\n",
              " {'lat': 16.070648, 'lng': 102.7344055},\n",
              " {'lat': 16.0582995, 'lng': 102.7360953},\n",
              " {'lat': 16.0573901, 'lng': 102.7192322}]"
            ]
          },
          "metadata": {},
          "execution_count": 8
        }
      ]
    },
    {
      "cell_type": "code",
      "source": [
        "this_json['6']"
      ],
      "metadata": {
        "id": "ZMtxaF9Pv0tt"
      },
      "execution_count": null,
      "outputs": []
    }
  ]
}